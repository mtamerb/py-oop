{
 "cells": [
  {
   "cell_type": "code",
   "execution_count": 1,
   "id": "3be521e8",
   "metadata": {
    "_cell_guid": "b1076dfc-b9ad-4769-8c92-a6c4dae69d19",
    "_uuid": "8f2839f25d086af736a60e9eeb907d3b93b6e0e5",
    "execution": {
     "iopub.execute_input": "2023-07-24T20:11:14.555931Z",
     "iopub.status.busy": "2023-07-24T20:11:14.555474Z",
     "iopub.status.idle": "2023-07-24T20:11:14.568148Z",
     "shell.execute_reply": "2023-07-24T20:11:14.567156Z"
    },
    "papermill": {
     "duration": 0.023135,
     "end_time": "2023-07-24T20:11:14.570128",
     "exception": false,
     "start_time": "2023-07-24T20:11:14.546993",
     "status": "completed"
    },
    "tags": []
   },
   "outputs": [
    {
     "name": "stdout",
     "output_type": "stream",
     "text": [
      "Bu bir sınıftır\n"
     ]
    }
   ],
   "source": [
    "    # Sınıf\n",
    "    \n",
    "    class VeriBilimci():\n",
    "        print(\"Bu bir sınıftır\")"
   ]
  },
  {
   "cell_type": "code",
   "execution_count": 2,
   "id": "66521278",
   "metadata": {
    "execution": {
     "iopub.execute_input": "2023-07-24T20:11:14.581293Z",
     "iopub.status.busy": "2023-07-24T20:11:14.580390Z",
     "iopub.status.idle": "2023-07-24T20:11:14.585511Z",
     "shell.execute_reply": "2023-07-24T20:11:14.584699Z"
    },
    "papermill": {
     "duration": 0.012464,
     "end_time": "2023-07-24T20:11:14.587388",
     "exception": false,
     "start_time": "2023-07-24T20:11:14.574924",
     "status": "completed"
    },
    "tags": []
   },
   "outputs": [],
   "source": [
    "# sınıf ozellikleri\n",
    "\n",
    "class VeriBilimci():\n",
    "    calisanlar = []\n",
    "    bolum = \"\"\n",
    "    sql = \"evet\"\n",
    "    deneyim_yili = 0\n",
    "    bildigi_diller = []\n",
    "\n",
    "    "
   ]
  },
  {
   "cell_type": "code",
   "execution_count": 3,
   "id": "b0781f25",
   "metadata": {
    "execution": {
     "iopub.execute_input": "2023-07-24T20:11:14.598161Z",
     "iopub.status.busy": "2023-07-24T20:11:14.597336Z",
     "iopub.status.idle": "2023-07-24T20:11:14.605128Z",
     "shell.execute_reply": "2023-07-24T20:11:14.603719Z"
    },
    "papermill": {
     "duration": 0.015088,
     "end_time": "2023-07-24T20:11:14.607098",
     "exception": false,
     "start_time": "2023-07-24T20:11:14.592010",
     "status": "completed"
    },
    "tags": []
   },
   "outputs": [
    {
     "data": {
      "text/plain": [
       "'hayır'"
      ]
     },
     "execution_count": 3,
     "metadata": {},
     "output_type": "execute_result"
    }
   ],
   "source": [
    "# ozelliklere erismek ve degıstırmek\n",
    "VeriBilimci.bolum\n",
    "VeriBilimci.sql\n",
    "\n",
    "VeriBilimci.sql = \"hayır\"\n",
    "\n",
    "VeriBilimci.sql"
   ]
  },
  {
   "cell_type": "code",
   "execution_count": 4,
   "id": "759f9ff8",
   "metadata": {
    "execution": {
     "iopub.execute_input": "2023-07-24T20:11:14.618058Z",
     "iopub.status.busy": "2023-07-24T20:11:14.617246Z",
     "iopub.status.idle": "2023-07-24T20:11:14.624618Z",
     "shell.execute_reply": "2023-07-24T20:11:14.623716Z"
    },
    "papermill": {
     "duration": 0.014878,
     "end_time": "2023-07-24T20:11:14.626637",
     "exception": false,
     "start_time": "2023-07-24T20:11:14.611759",
     "status": "completed"
    },
    "tags": []
   },
   "outputs": [
    {
     "data": {
      "text/plain": [
       "<function list.clear()>"
      ]
     },
     "execution_count": 4,
     "metadata": {},
     "output_type": "execute_result"
    }
   ],
   "source": [
    "# örneklem\n",
    "tamer = VeriBilimci()\n",
    "deneyim = tamer.deneyim_yili = 3\n",
    "sql_b = tamer.sql = \"evet\"\n",
    "bolum = tamer.bolum = \"ai\"\n",
    "tamer.bildigi_diller.append(\"Java\")\n",
    "tamer.bildigi_diller.clear"
   ]
  },
  {
   "cell_type": "code",
   "execution_count": 5,
   "id": "90a79884",
   "metadata": {
    "execution": {
     "iopub.execute_input": "2023-07-24T20:11:14.638043Z",
     "iopub.status.busy": "2023-07-24T20:11:14.637486Z",
     "iopub.status.idle": "2023-07-24T20:11:14.643641Z",
     "shell.execute_reply": "2023-07-24T20:11:14.642716Z"
    },
    "papermill": {
     "duration": 0.013919,
     "end_time": "2023-07-24T20:11:14.645629",
     "exception": false,
     "start_time": "2023-07-24T20:11:14.631710",
     "status": "completed"
    },
    "tags": []
   },
   "outputs": [
    {
     "data": {
      "text/plain": [
       "'hayır'"
      ]
     },
     "execution_count": 5,
     "metadata": {},
     "output_type": "execute_result"
    }
   ],
   "source": [
    "VeriBilimci.sql"
   ]
  },
  {
   "cell_type": "code",
   "execution_count": 6,
   "id": "9b55aaa6",
   "metadata": {
    "execution": {
     "iopub.execute_input": "2023-07-24T20:11:14.657288Z",
     "iopub.status.busy": "2023-07-24T20:11:14.656427Z",
     "iopub.status.idle": "2023-07-24T20:11:14.662887Z",
     "shell.execute_reply": "2023-07-24T20:11:14.661955Z"
    },
    "papermill": {
     "duration": 0.014165,
     "end_time": "2023-07-24T20:11:14.664800",
     "exception": false,
     "start_time": "2023-07-24T20:11:14.650635",
     "status": "completed"
    },
    "tags": []
   },
   "outputs": [
    {
     "name": "stdout",
     "output_type": "stream",
     "text": [
      "['python', 'java', 'c#', 'sql']\n"
     ]
    }
   ],
   "source": [
    "diller = [ \"python\", \"java\", \"c#\", \"sql\"]\n",
    "\n",
    "tamer.bildigi_diller.clear()\n",
    "for i in diller:\n",
    "    tamer.bildigi_diller.append(i)\n",
    "print(tamer.bildigi_diller)    "
   ]
  },
  {
   "cell_type": "code",
   "execution_count": 7,
   "id": "096f71d8",
   "metadata": {
    "execution": {
     "iopub.execute_input": "2023-07-24T20:11:14.677031Z",
     "iopub.status.busy": "2023-07-24T20:11:14.676113Z",
     "iopub.status.idle": "2023-07-24T20:11:14.682588Z",
     "shell.execute_reply": "2023-07-24T20:11:14.681682Z"
    },
    "papermill": {
     "duration": 0.014679,
     "end_time": "2023-07-24T20:11:14.684611",
     "exception": false,
     "start_time": "2023-07-24T20:11:14.669932",
     "status": "completed"
    },
    "tags": []
   },
   "outputs": [
    {
     "data": {
      "text/plain": [
       "['python', 'java', 'c#', 'sql']"
      ]
     },
     "execution_count": 7,
     "metadata": {},
     "output_type": "execute_result"
    }
   ],
   "source": [
    "sude = VeriBilimci()\n",
    "\n",
    "# halbuki bilmiyor \n",
    "sude.bildigi_diller"
   ]
  },
  {
   "cell_type": "code",
   "execution_count": 8,
   "id": "ec7b3624",
   "metadata": {
    "execution": {
     "iopub.execute_input": "2023-07-24T20:11:14.696264Z",
     "iopub.status.busy": "2023-07-24T20:11:14.695999Z",
     "iopub.status.idle": "2023-07-24T20:11:14.700956Z",
     "shell.execute_reply": "2023-07-24T20:11:14.700085Z"
    },
    "papermill": {
     "duration": 0.013382,
     "end_time": "2023-07-24T20:11:14.703214",
     "exception": false,
     "start_time": "2023-07-24T20:11:14.689832",
     "status": "completed"
    },
    "tags": []
   },
   "outputs": [
    {
     "name": "stdout",
     "output_type": "stream",
     "text": [
      "deneyim yılı :  3\n",
      "sql bilgisi :  evet\n",
      "bolum :  ai\n",
      "diller :  ['python', 'java', 'c#', 'sql']\n"
     ]
    }
   ],
   "source": [
    "print (\"deneyim yılı : \" , deneyim)\n",
    "print(\"sql bilgisi : \" , sql_b)\n",
    "print(\"bolum : \" , bolum)\n",
    "print (\"diller : \" , tamer.bildigi_diller)"
   ]
  },
  {
   "cell_type": "code",
   "execution_count": 9,
   "id": "ff95734b",
   "metadata": {
    "execution": {
     "iopub.execute_input": "2023-07-24T20:11:14.715478Z",
     "iopub.status.busy": "2023-07-24T20:11:14.714498Z",
     "iopub.status.idle": "2023-07-24T20:11:14.719965Z",
     "shell.execute_reply": "2023-07-24T20:11:14.719148Z"
    },
    "papermill": {
     "duration": 0.013408,
     "end_time": "2023-07-24T20:11:14.721918",
     "exception": false,
     "start_time": "2023-07-24T20:11:14.708510",
     "status": "completed"
    },
    "tags": []
   },
   "outputs": [],
   "source": [
    "# ornek ozellikleri\n",
    "\n",
    "class VeriB():\n",
    "    def __init__(self):\n",
    "        self.bildigi_diller = []\n",
    "        self.bolum = \"\"\n",
    "        \n",
    "    def dil_ekle(self, yeni_dil):\n",
    "        self.bildigi_diller.append(yeni_dil)"
   ]
  },
  {
   "cell_type": "code",
   "execution_count": 10,
   "id": "e52260f9",
   "metadata": {
    "execution": {
     "iopub.execute_input": "2023-07-24T20:11:14.733780Z",
     "iopub.status.busy": "2023-07-24T20:11:14.733033Z",
     "iopub.status.idle": "2023-07-24T20:11:14.739448Z",
     "shell.execute_reply": "2023-07-24T20:11:14.738494Z"
    },
    "papermill": {
     "duration": 0.014275,
     "end_time": "2023-07-24T20:11:14.741350",
     "exception": false,
     "start_time": "2023-07-24T20:11:14.727075",
     "status": "completed"
    },
    "tags": []
   },
   "outputs": [
    {
     "data": {
      "text/plain": [
       "['Java']"
      ]
     },
     "execution_count": 10,
     "metadata": {},
     "output_type": "execute_result"
    }
   ],
   "source": [
    "ayse = VeriB()\n",
    "ayse.bildigi_diller.append(\"Java\")\n",
    "ayse.bildigi_diller"
   ]
  },
  {
   "cell_type": "code",
   "execution_count": 11,
   "id": "b28c61c6",
   "metadata": {
    "execution": {
     "iopub.execute_input": "2023-07-24T20:11:14.753519Z",
     "iopub.status.busy": "2023-07-24T20:11:14.752784Z",
     "iopub.status.idle": "2023-07-24T20:11:14.758493Z",
     "shell.execute_reply": "2023-07-24T20:11:14.757540Z"
    },
    "papermill": {
     "duration": 0.013787,
     "end_time": "2023-07-24T20:11:14.760495",
     "exception": false,
     "start_time": "2023-07-24T20:11:14.746708",
     "status": "completed"
    },
    "tags": []
   },
   "outputs": [
    {
     "data": {
      "text/plain": [
       "[]"
      ]
     },
     "execution_count": 11,
     "metadata": {},
     "output_type": "execute_result"
    }
   ],
   "source": [
    "ceyda = VeriB()\n",
    "ceyda.bildigi_diller"
   ]
  },
  {
   "cell_type": "code",
   "execution_count": 12,
   "id": "50c15cf1",
   "metadata": {
    "execution": {
     "iopub.execute_input": "2023-07-24T20:11:14.773049Z",
     "iopub.status.busy": "2023-07-24T20:11:14.772227Z",
     "iopub.status.idle": "2023-07-24T20:11:14.778602Z",
     "shell.execute_reply": "2023-07-24T20:11:14.777720Z"
    },
    "papermill": {
     "duration": 0.014655,
     "end_time": "2023-07-24T20:11:14.780543",
     "exception": false,
     "start_time": "2023-07-24T20:11:14.765888",
     "status": "completed"
    },
    "tags": []
   },
   "outputs": [
    {
     "data": {
      "text/plain": [
       "['R']"
      ]
     },
     "execution_count": 12,
     "metadata": {},
     "output_type": "execute_result"
    }
   ],
   "source": [
    "# instance fonk.\n",
    "\n",
    "ceyda.bildigi_diller # []\n",
    "ceyda.dil_ekle(\"R\")\n",
    "\n",
    "ceyda.bildigi_diller\n",
    "\n"
   ]
  },
  {
   "cell_type": "code",
   "execution_count": 13,
   "id": "8f0df08d",
   "metadata": {
    "execution": {
     "iopub.execute_input": "2023-07-24T20:11:14.793692Z",
     "iopub.status.busy": "2023-07-24T20:11:14.792774Z",
     "iopub.status.idle": "2023-07-24T20:11:14.799166Z",
     "shell.execute_reply": "2023-07-24T20:11:14.798330Z"
    },
    "papermill": {
     "duration": 0.015017,
     "end_time": "2023-07-24T20:11:14.801116",
     "exception": false,
     "start_time": "2023-07-24T20:11:14.786099",
     "status": "completed"
    },
    "tags": []
   },
   "outputs": [],
   "source": [
    "# inheritance\n",
    "\n",
    "class Employees():\n",
    "    def __init__(self, first_name, last_name, address):\n",
    "        self.first_name = first_name\n",
    "        self.last_name = last_name\n",
    "        self.address = address\n",
    "        \n",
    "class DataScience():\n",
    "    def __init__(self, programming):\n",
    "        self.programming = programming\n",
    "        \n",
    "class Marketing(Employees): # employeesi miras alır\n",
    "    def __init__(self, marketing):\n",
    "        self.marketing = marketing"
   ]
  },
  {
   "cell_type": "code",
   "execution_count": 14,
   "id": "9777f0ff",
   "metadata": {
    "execution": {
     "iopub.execute_input": "2023-07-24T20:11:14.813816Z",
     "iopub.status.busy": "2023-07-24T20:11:14.813284Z",
     "iopub.status.idle": "2023-07-24T20:11:14.820158Z",
     "shell.execute_reply": "2023-07-24T20:11:14.819195Z"
    },
    "papermill": {
     "duration": 0.015401,
     "end_time": "2023-07-24T20:11:14.822104",
     "exception": false,
     "start_time": "2023-07-24T20:11:14.806703",
     "status": "completed"
    },
    "tags": []
   },
   "outputs": [
    {
     "data": {
      "text/plain": [
       "'busenur'"
      ]
     },
     "execution_count": 14,
     "metadata": {},
     "output_type": "execute_result"
    }
   ],
   "source": [
    "busenur = Employees(\"busenur\", \"solar\", \"Ankara\")\n",
    "\n",
    "\n",
    "busenur.first_name\n"
   ]
  },
  {
   "cell_type": "code",
   "execution_count": 15,
   "id": "7bb5ab38",
   "metadata": {
    "execution": {
     "iopub.execute_input": "2023-07-24T20:11:14.835010Z",
     "iopub.status.busy": "2023-07-24T20:11:14.834246Z",
     "iopub.status.idle": "2023-07-24T20:11:14.840715Z",
     "shell.execute_reply": "2023-07-24T20:11:14.839793Z"
    },
    "papermill": {
     "duration": 0.01518,
     "end_time": "2023-07-24T20:11:14.842915",
     "exception": false,
     "start_time": "2023-07-24T20:11:14.827735",
     "status": "completed"
    },
    "tags": []
   },
   "outputs": [
    {
     "data": {
      "text/plain": [
       "'Türkiye'"
      ]
     },
     "execution_count": 15,
     "metadata": {},
     "output_type": "execute_result"
    }
   ],
   "source": [
    "cevdet = Marketing(\"İyi\")\n",
    "\n",
    "cevdet.address = \"Türkiye\"\n",
    "\n",
    "cevdet.address\n"
   ]
  }
 ],
 "metadata": {
  "kernelspec": {
   "display_name": "Python 3",
   "language": "python",
   "name": "python3"
  },
  "language_info": {
   "codemirror_mode": {
    "name": "ipython",
    "version": 3
   },
   "file_extension": ".py",
   "mimetype": "text/x-python",
   "name": "python",
   "nbconvert_exporter": "python",
   "pygments_lexer": "ipython3",
   "version": "3.10.12"
  },
  "papermill": {
   "default_parameters": {},
   "duration": 11.123877,
   "end_time": "2023-07-24T20:11:15.367087",
   "environment_variables": {},
   "exception": null,
   "input_path": "__notebook__.ipynb",
   "output_path": "__notebook__.ipynb",
   "parameters": {},
   "start_time": "2023-07-24T20:11:04.243210",
   "version": "2.4.0"
  }
 },
 "nbformat": 4,
 "nbformat_minor": 5
}
