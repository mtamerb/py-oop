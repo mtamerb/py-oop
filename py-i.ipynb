{
 "cells": [
  {
   "cell_type": "code",
   "execution_count": 1,
   "id": "73eb4655",
   "metadata": {
    "_cell_guid": "b1076dfc-b9ad-4769-8c92-a6c4dae69d19",
    "_uuid": "8f2839f25d086af736a60e9eeb907d3b93b6e0e5",
    "execution": {
     "iopub.execute_input": "2023-07-24T19:22:05.647086Z",
     "iopub.status.busy": "2023-07-24T19:22:05.646317Z",
     "iopub.status.idle": "2023-07-24T19:22:05.660264Z",
     "shell.execute_reply": "2023-07-24T19:22:05.659439Z"
    },
    "papermill": {
     "duration": 0.023878,
     "end_time": "2023-07-24T19:22:05.662444",
     "exception": false,
     "start_time": "2023-07-24T19:22:05.638566",
     "status": "completed"
    },
    "tags": []
   },
   "outputs": [
    {
     "name": "stdout",
     "output_type": "stream",
     "text": [
      "Bu bir sınıftır\n"
     ]
    }
   ],
   "source": [
    "    # Sınıf\n",
    "    \n",
    "    class VeriBilimci():\n",
    "        print(\"Bu bir sınıftır\")"
   ]
  },
  {
   "cell_type": "code",
   "execution_count": 2,
   "id": "232d75ef",
   "metadata": {
    "execution": {
     "iopub.execute_input": "2023-07-24T19:22:05.672778Z",
     "iopub.status.busy": "2023-07-24T19:22:05.672526Z",
     "iopub.status.idle": "2023-07-24T19:22:05.676925Z",
     "shell.execute_reply": "2023-07-24T19:22:05.676083Z"
    },
    "papermill": {
     "duration": 0.011828,
     "end_time": "2023-07-24T19:22:05.678958",
     "exception": false,
     "start_time": "2023-07-24T19:22:05.667130",
     "status": "completed"
    },
    "tags": []
   },
   "outputs": [],
   "source": [
    "# sınıf ozellikleri\n",
    "\n",
    "class VeriBilimci():\n",
    "    calisanlar = []\n",
    "    bolum = \"\"\n",
    "    sql = \"evet\"\n",
    "    deneyim_yili = 0\n",
    "    bildigi_diller = []\n",
    "\n",
    "    "
   ]
  },
  {
   "cell_type": "code",
   "execution_count": 3,
   "id": "0bc7f97a",
   "metadata": {
    "execution": {
     "iopub.execute_input": "2023-07-24T19:22:05.689146Z",
     "iopub.status.busy": "2023-07-24T19:22:05.688892Z",
     "iopub.status.idle": "2023-07-24T19:22:05.695770Z",
     "shell.execute_reply": "2023-07-24T19:22:05.694782Z"
    },
    "papermill": {
     "duration": 0.015486,
     "end_time": "2023-07-24T19:22:05.699040",
     "exception": false,
     "start_time": "2023-07-24T19:22:05.683554",
     "status": "completed"
    },
    "tags": []
   },
   "outputs": [
    {
     "data": {
      "text/plain": [
       "'hayır'"
      ]
     },
     "execution_count": 3,
     "metadata": {},
     "output_type": "execute_result"
    }
   ],
   "source": [
    "# ozelliklere erismek ve degıstırmek\n",
    "VeriBilimci.bolum\n",
    "VeriBilimci.sql\n",
    "\n",
    "VeriBilimci.sql = \"hayır\"\n",
    "\n",
    "VeriBilimci.sql"
   ]
  },
  {
   "cell_type": "code",
   "execution_count": 4,
   "id": "2c412a7f",
   "metadata": {
    "execution": {
     "iopub.execute_input": "2023-07-24T19:22:05.709440Z",
     "iopub.status.busy": "2023-07-24T19:22:05.709141Z",
     "iopub.status.idle": "2023-07-24T19:22:05.717218Z",
     "shell.execute_reply": "2023-07-24T19:22:05.716263Z"
    },
    "papermill": {
     "duration": 0.015582,
     "end_time": "2023-07-24T19:22:05.719211",
     "exception": false,
     "start_time": "2023-07-24T19:22:05.703629",
     "status": "completed"
    },
    "tags": []
   },
   "outputs": [
    {
     "data": {
      "text/plain": [
       "<function list.clear()>"
      ]
     },
     "execution_count": 4,
     "metadata": {},
     "output_type": "execute_result"
    }
   ],
   "source": [
    "# örneklem\n",
    "tamer = VeriBilimci()\n",
    "deneyim = tamer.deneyim_yili = 3\n",
    "sql_b = tamer.sql = \"evet\"\n",
    "bolum = tamer.bolum = \"ai\"\n",
    "tamer.bildigi_diller.append(\"Java\")\n",
    "tamer.bildigi_diller.clear"
   ]
  },
  {
   "cell_type": "code",
   "execution_count": 5,
   "id": "1a2c7f9d",
   "metadata": {
    "execution": {
     "iopub.execute_input": "2023-07-24T19:22:05.730162Z",
     "iopub.status.busy": "2023-07-24T19:22:05.729902Z",
     "iopub.status.idle": "2023-07-24T19:22:05.735195Z",
     "shell.execute_reply": "2023-07-24T19:22:05.734361Z"
    },
    "papermill": {
     "duration": 0.013066,
     "end_time": "2023-07-24T19:22:05.737141",
     "exception": false,
     "start_time": "2023-07-24T19:22:05.724075",
     "status": "completed"
    },
    "tags": []
   },
   "outputs": [
    {
     "data": {
      "text/plain": [
       "'hayır'"
      ]
     },
     "execution_count": 5,
     "metadata": {},
     "output_type": "execute_result"
    }
   ],
   "source": [
    "VeriBilimci.sql"
   ]
  },
  {
   "cell_type": "code",
   "execution_count": 6,
   "id": "7a4cbaeb",
   "metadata": {
    "execution": {
     "iopub.execute_input": "2023-07-24T19:22:05.748193Z",
     "iopub.status.busy": "2023-07-24T19:22:05.747939Z",
     "iopub.status.idle": "2023-07-24T19:22:05.753077Z",
     "shell.execute_reply": "2023-07-24T19:22:05.752086Z"
    },
    "papermill": {
     "duration": 0.014225,
     "end_time": "2023-07-24T19:22:05.756244",
     "exception": false,
     "start_time": "2023-07-24T19:22:05.742019",
     "status": "completed"
    },
    "tags": []
   },
   "outputs": [
    {
     "name": "stdout",
     "output_type": "stream",
     "text": [
      "['python', 'java', 'c#', 'sql']\n"
     ]
    }
   ],
   "source": [
    "diller = [ \"python\", \"java\", \"c#\", \"sql\"]\n",
    "\n",
    "tamer.bildigi_diller.clear()\n",
    "for i in diller:\n",
    "    tamer.bildigi_diller.append(i)\n",
    "print(tamer.bildigi_diller)    "
   ]
  },
  {
   "cell_type": "code",
   "execution_count": 7,
   "id": "dc563907",
   "metadata": {
    "execution": {
     "iopub.execute_input": "2023-07-24T19:22:05.767227Z",
     "iopub.status.busy": "2023-07-24T19:22:05.766979Z",
     "iopub.status.idle": "2023-07-24T19:22:05.772536Z",
     "shell.execute_reply": "2023-07-24T19:22:05.771669Z"
    },
    "papermill": {
     "duration": 0.013292,
     "end_time": "2023-07-24T19:22:05.774525",
     "exception": false,
     "start_time": "2023-07-24T19:22:05.761233",
     "status": "completed"
    },
    "tags": []
   },
   "outputs": [
    {
     "data": {
      "text/plain": [
       "['python', 'java', 'c#', 'sql']"
      ]
     },
     "execution_count": 7,
     "metadata": {},
     "output_type": "execute_result"
    }
   ],
   "source": [
    "sude = VeriBilimci()\n",
    "\n",
    "# halbuki bilmiyor \n",
    "sude.bildigi_diller"
   ]
  },
  {
   "cell_type": "code",
   "execution_count": 8,
   "id": "a4042453",
   "metadata": {
    "execution": {
     "iopub.execute_input": "2023-07-24T19:22:05.785739Z",
     "iopub.status.busy": "2023-07-24T19:22:05.785492Z",
     "iopub.status.idle": "2023-07-24T19:22:05.790716Z",
     "shell.execute_reply": "2023-07-24T19:22:05.789707Z"
    },
    "papermill": {
     "duration": 0.014525,
     "end_time": "2023-07-24T19:22:05.794126",
     "exception": false,
     "start_time": "2023-07-24T19:22:05.779601",
     "status": "completed"
    },
    "tags": []
   },
   "outputs": [
    {
     "name": "stdout",
     "output_type": "stream",
     "text": [
      "deneyim yılı :  3\n",
      "sql bilgisi :  evet\n",
      "bolum :  ai\n",
      "diller :  ['python', 'java', 'c#', 'sql']\n"
     ]
    }
   ],
   "source": [
    "print (\"deneyim yılı : \" , deneyim)\n",
    "print(\"sql bilgisi : \" , sql_b)\n",
    "print(\"bolum : \" , bolum)\n",
    "print (\"diller : \" , tamer.bildigi_diller)"
   ]
  },
  {
   "cell_type": "code",
   "execution_count": 9,
   "id": "0dbe5857",
   "metadata": {
    "execution": {
     "iopub.execute_input": "2023-07-24T19:22:05.805716Z",
     "iopub.status.busy": "2023-07-24T19:22:05.805471Z",
     "iopub.status.idle": "2023-07-24T19:22:05.809940Z",
     "shell.execute_reply": "2023-07-24T19:22:05.809092Z"
    },
    "papermill": {
     "duration": 0.012604,
     "end_time": "2023-07-24T19:22:05.811968",
     "exception": false,
     "start_time": "2023-07-24T19:22:05.799364",
     "status": "completed"
    },
    "tags": []
   },
   "outputs": [],
   "source": [
    "# ornek ozellikleri\n",
    "\n",
    "class VeriB():\n",
    "    def __init__(self):\n",
    "        self.bildigi_diller = []\n",
    "        self.bolum = \"\"\n",
    "        \n",
    "    def dil_ekle(self, yeni_dil):\n",
    "        self.bildigi_diller.append(yeni_dil)"
   ]
  },
  {
   "cell_type": "code",
   "execution_count": 10,
   "id": "81e2fa6e",
   "metadata": {
    "execution": {
     "iopub.execute_input": "2023-07-24T19:22:05.823435Z",
     "iopub.status.busy": "2023-07-24T19:22:05.823166Z",
     "iopub.status.idle": "2023-07-24T19:22:05.830090Z",
     "shell.execute_reply": "2023-07-24T19:22:05.829244Z"
    },
    "papermill": {
     "duration": 0.014992,
     "end_time": "2023-07-24T19:22:05.832125",
     "exception": false,
     "start_time": "2023-07-24T19:22:05.817133",
     "status": "completed"
    },
    "tags": []
   },
   "outputs": [
    {
     "data": {
      "text/plain": [
       "['Java']"
      ]
     },
     "execution_count": 10,
     "metadata": {},
     "output_type": "execute_result"
    }
   ],
   "source": [
    "ayse = VeriB()\n",
    "ayse.bildigi_diller.append(\"Java\")\n",
    "ayse.bildigi_diller"
   ]
  },
  {
   "cell_type": "code",
   "execution_count": 11,
   "id": "05479b88",
   "metadata": {
    "execution": {
     "iopub.execute_input": "2023-07-24T19:22:05.843794Z",
     "iopub.status.busy": "2023-07-24T19:22:05.843543Z",
     "iopub.status.idle": "2023-07-24T19:22:05.849156Z",
     "shell.execute_reply": "2023-07-24T19:22:05.848328Z"
    },
    "papermill": {
     "duration": 0.013758,
     "end_time": "2023-07-24T19:22:05.851227",
     "exception": false,
     "start_time": "2023-07-24T19:22:05.837469",
     "status": "completed"
    },
    "tags": []
   },
   "outputs": [
    {
     "data": {
      "text/plain": [
       "[]"
      ]
     },
     "execution_count": 11,
     "metadata": {},
     "output_type": "execute_result"
    }
   ],
   "source": [
    "ceyda = VeriB()\n",
    "ceyda.bildigi_diller"
   ]
  },
  {
   "cell_type": "code",
   "execution_count": 12,
   "id": "3d57f5c8",
   "metadata": {
    "execution": {
     "iopub.execute_input": "2023-07-24T19:22:05.863096Z",
     "iopub.status.busy": "2023-07-24T19:22:05.862850Z",
     "iopub.status.idle": "2023-07-24T19:22:05.868349Z",
     "shell.execute_reply": "2023-07-24T19:22:05.867507Z"
    },
    "papermill": {
     "duration": 0.013881,
     "end_time": "2023-07-24T19:22:05.870542",
     "exception": false,
     "start_time": "2023-07-24T19:22:05.856661",
     "status": "completed"
    },
    "tags": []
   },
   "outputs": [
    {
     "data": {
      "text/plain": [
       "['R']"
      ]
     },
     "execution_count": 12,
     "metadata": {},
     "output_type": "execute_result"
    }
   ],
   "source": [
    "# instance fonk.\n",
    "\n",
    "ceyda.bildigi_diller # []\n",
    "ceyda.dil_ekle(\"R\")\n",
    "\n",
    "ceyda.bildigi_diller\n",
    "\n"
   ]
  },
  {
   "cell_type": "code",
   "execution_count": 13,
   "id": "62ed9a8e",
   "metadata": {
    "execution": {
     "iopub.execute_input": "2023-07-24T19:22:05.882643Z",
     "iopub.status.busy": "2023-07-24T19:22:05.882384Z",
     "iopub.status.idle": "2023-07-24T19:22:05.887730Z",
     "shell.execute_reply": "2023-07-24T19:22:05.886877Z"
    },
    "papermill": {
     "duration": 0.013567,
     "end_time": "2023-07-24T19:22:05.889655",
     "exception": false,
     "start_time": "2023-07-24T19:22:05.876088",
     "status": "completed"
    },
    "tags": []
   },
   "outputs": [],
   "source": [
    "# inheritance\n",
    "\n",
    "class Employees():\n",
    "    def __init__(self):\n",
    "        self.first_name = \"\"\n",
    "        self.last_name = \"\"\n",
    "        self.address = \"\"\n",
    "        \n",
    "class DataScience():\n",
    "    def __init__(self):\n",
    "        self.programming = \"\"\n",
    "        \n",
    "class Marketing(Employees): # employeesi miras alır\n",
    "    def __init__(self):\n",
    "        self.marketing = \"\""
   ]
  },
  {
   "cell_type": "code",
   "execution_count": 14,
   "id": "c0c3ca80",
   "metadata": {
    "execution": {
     "iopub.execute_input": "2023-07-24T19:22:05.902215Z",
     "iopub.status.busy": "2023-07-24T19:22:05.901525Z",
     "iopub.status.idle": "2023-07-24T19:22:05.907653Z",
     "shell.execute_reply": "2023-07-24T19:22:05.906707Z"
    },
    "papermill": {
     "duration": 0.014371,
     "end_time": "2023-07-24T19:22:05.909600",
     "exception": false,
     "start_time": "2023-07-24T19:22:05.895229",
     "status": "completed"
    },
    "tags": []
   },
   "outputs": [
    {
     "data": {
      "text/plain": [
       "'busenur'"
      ]
     },
     "execution_count": 14,
     "metadata": {},
     "output_type": "execute_result"
    }
   ],
   "source": [
    "busenur = Employees()\n",
    "\n",
    "busenur.first_name = \"busenur\"\n",
    "busenur.first_name\n"
   ]
  },
  {
   "cell_type": "code",
   "execution_count": 15,
   "id": "ff24f301",
   "metadata": {
    "execution": {
     "iopub.execute_input": "2023-07-24T19:22:05.922443Z",
     "iopub.status.busy": "2023-07-24T19:22:05.921621Z",
     "iopub.status.idle": "2023-07-24T19:22:05.927541Z",
     "shell.execute_reply": "2023-07-24T19:22:05.926672Z"
    },
    "papermill": {
     "duration": 0.014368,
     "end_time": "2023-07-24T19:22:05.929546",
     "exception": false,
     "start_time": "2023-07-24T19:22:05.915178",
     "status": "completed"
    },
    "tags": []
   },
   "outputs": [
    {
     "data": {
      "text/plain": [
       "'Türkiye'"
      ]
     },
     "execution_count": 15,
     "metadata": {},
     "output_type": "execute_result"
    }
   ],
   "source": [
    "cevdet = Marketing()\n",
    "\n",
    "cevdet.address = \"Türkiye\"\n",
    "\n",
    "cevdet.address\n"
   ]
  }
 ],
 "metadata": {
  "kernelspec": {
   "display_name": "Python 3",
   "language": "python",
   "name": "python3"
  },
  "language_info": {
   "codemirror_mode": {
    "name": "ipython",
    "version": 3
   },
   "file_extension": ".py",
   "mimetype": "text/x-python",
   "name": "python",
   "nbconvert_exporter": "python",
   "pygments_lexer": "ipython3",
   "version": "3.10.12"
  },
  "papermill": {
   "default_parameters": {},
   "duration": 10.525446,
   "end_time": "2023-07-24T19:22:06.453221",
   "environment_variables": {},
   "exception": null,
   "input_path": "__notebook__.ipynb",
   "output_path": "__notebook__.ipynb",
   "parameters": {},
   "start_time": "2023-07-24T19:21:55.927775",
   "version": "2.4.0"
  }
 },
 "nbformat": 4,
 "nbformat_minor": 5
}
